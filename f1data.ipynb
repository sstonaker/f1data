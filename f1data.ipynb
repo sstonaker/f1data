{
 "cells": [
  {
   "cell_type": "code",
   "execution_count": null,
   "id": "7e19d4fb-938c-4195-a8df-49760f9ccdc3",
   "metadata": {},
   "outputs": [],
   "source": [
    "import requests\n",
    "import json\n",
    "import matplotlib.pyplot as plt\n",
    "import pandas as pd\n",
    "import numpy as np"
   ]
  },
  {
   "cell_type": "markdown",
   "id": "43e410fe-ff74-406f-aba7-9aa89fd005b4",
   "metadata": {
    "tags": []
   },
   "source": [
    "### Make request to the API to get 2021 qualifying results"
   ]
  },
  {
   "cell_type": "code",
   "execution_count": null,
   "id": "26de9ccd-02b3-4413-ab30-9ee391ab0808",
   "metadata": {},
   "outputs": [],
   "source": [
    "q_2021 = requests.get(\n",
    "    \"http://ergast.com/api/f1/2021/qualifying.json?limit=1000\").json()\n",
    "# q_2020 = requests.get(\"http://ergast.com/api/f1/2020/qualifying.json?limit=1000\").json()\n",
    "# q_2019 = requests.get(\"http://ergast.com/api/f1/2019/qualifying.json?limit=1000\").json()\n",
    "# q_2018 = requests.get(\"http://ergast.com/api/f1/2018/qualifying.json?limit=1000\").json()\n",
    "# q_2017 = requests.get(\"http://ergast.com/api/f1/2017/qualifying.json?limit=1000\").json()\n",
    "# q_2016 = requests.get(\"http://ergast.com/api/f1/2016/qualifying.json?limit=1000\").json()\n",
    "# q_2015 = requests.get(\"http://ergast.com/api/f1/2015/qualifying.json?limit=1000\").json()"
   ]
  },
  {
   "cell_type": "markdown",
   "id": "2ebc4dc1-f0c9-4d9d-8e42-b2f80c72fef3",
   "metadata": {},
   "source": [
    "### Check out the number of entries"
   ]
  },
  {
   "cell_type": "code",
   "execution_count": null,
   "id": "e633b2fb-94f6-402f-a16c-18a1501e9e87",
   "metadata": {},
   "outputs": [],
   "source": [
    "n_results = q_2021['MRData']['total']\n",
    "print(f\"{n_results}\")"
   ]
  },
  {
   "cell_type": "markdown",
   "id": "8dc631ad-90ad-483f-9850-b0f049dcd402",
   "metadata": {},
   "source": [
    "### Get all the races for that season and group by round"
   ]
  },
  {
   "cell_type": "code",
   "execution_count": null,
   "id": "061a314e-9a92-4d40-aa07-31aaceb7cc67",
   "metadata": {},
   "outputs": [],
   "source": [
    "races = [race for race in q_2021['MRData']['RaceTable']['Races']]\n",
    "\n",
    "\n",
    "race_names = [race['raceName'] for race in q_2021['MRData']['RaceTable']['Races']]\n",
    "rounds = [race['round'] for race in races]\n",
    "\n",
    "race_dict = {rounds[i]:race_names[i]  for i in range(len(race_names))}\n",
    "\n",
    "print(race_dict)\n"
   ]
  },
  {
   "cell_type": "markdown",
   "id": "f70a59ee-aa3c-4454-8fb0-28f40290f176",
   "metadata": {
    "tags": []
   },
   "source": [
    "\n",
    "\n",
    "\n",
    "### Get list of qualifying times for each round"
   ]
  },
  {
   "cell_type": "code",
   "execution_count": null,
   "id": "2c1e9bf1-c54f-428c-ba28-064bd7afeae8",
   "metadata": {},
   "outputs": [],
   "source": [
    "#drivers = [result['Driver']['givenName'] + \" \" + result['Driver']['familyName'] for race in q_2021['MRData']['RaceTable']['Races'] for result in race['QualifyingResults']]\n",
    "qual_results = [result['Driver']['code'] for race in races for result in race['QualifyingResults']]\n",
    "# qual_times = [result['Q1'] for race in races for result in race['QualifyingResults']]\n",
    "\n",
    "qual_times = []\n",
    "qual_codes = []\n",
    "q1_times = []\n",
    "q2_times = []\n",
    "q3_times = []\n",
    "\n",
    "for i in range(len(races)):\n",
    "    for result in race['QualifyingResults']:\n",
    "        times = []\n",
    "        qual_codes.append(result['Driver']['code'])\n",
    "        if 'Q1' in result:\n",
    "            times.append(result['Q1'])\n",
    "            q1_times.append(result['Q1'])\n",
    "        else:\n",
    "            q1_times.append('0:00.000')\n",
    "        if 'Q2' in result:\n",
    "            times.append(result['Q2'])\n",
    "            q2_times.append(result['Q2'])\n",
    "        else:\n",
    "            q2_times.append('0:00.000')\n",
    "        if 'Q3' in result:\n",
    "            times.append(result['Q3'])\n",
    "            q3_times.append(result['Q3'])\n",
    "        else:\n",
    "            q3_times.append('0:00.000')\n",
    "        qual_times.append(times)\n",
    "print(qual_codes, qual_times) "
   ]
  },
  {
   "cell_type": "code",
   "execution_count": null,
   "id": "51806ab2-2d7f-46ee-81b4-91180473ac7c",
   "metadata": {},
   "outputs": [],
   "source": [
    "print(q1_times)\n",
    "print(q2_times)\n",
    "print(q3_times)\n",
    " "
   ]
  },
  {
   "cell_type": "code",
   "execution_count": null,
   "id": "056ccb02-8d4f-4764-aeac-1e1c1eb588e9",
   "metadata": {},
   "outputs": [],
   "source": [
    "\n",
    "width = .25\n",
    "x = 100\n",
    "y = 95\n",
    "z = 90\n",
    "\n",
    "# qual_codes = ['VER', 'HAM', 'NOR', 'PER', 'SAI', 'BOT', 'LEC', 'TSU', 'OCO', 'RIC', 'ALO', 'GAS', 'STR', 'GIO', 'VET', 'LAT', 'RUS', 'RAI', 'MSC', 'MAZ']\n",
    "\n",
    "\n",
    "# q1_times = [x+i for i in range(20)]\n",
    "# q2_times = [y+i for i in range(20)]\n",
    "# q3_times = [z+i for i in range(20)]\n",
    "\n",
    "xlabel = np.arange(len(qual_codes))\n",
    "\n",
    "fig, ax = plt.subplots()\n",
    "fig.set_size_inches(30, 15)\n",
    "\n",
    "ax.set_ylabel('Qualifying Times')\n",
    "ax.set_title('Formula 1 Qualifying Times 2021')\n",
    "ax.set_xticks(xlabel, qual_codes)\n",
    "\n",
    "\n",
    "q1 = ax.bar(xlabel - width, q1_times, width, label='Q1')\n",
    "q2 = ax.bar(xlabel, q2_times, width, label='Q2')\n",
    "q3 = ax.bar(xlabel + width, q3_times, width, label='Q3')\n",
    "# ax.bar(x + width/3, q2_times, width, label='Q3')\n",
    "\n",
    "\n",
    "ax.bar_label(q1, padding=9)\n",
    "ax.bar_label(q2, padding=6)\n",
    "ax.bar_label(q3, padding=3)\n",
    "\n",
    "ax.legend()\n",
    "\n",
    "plt.show()\n"
   ]
  }
 ],
 "metadata": {
  "kernelspec": {
   "display_name": "Python 3 (ipykernel)",
   "language": "python",
   "name": "python3"
  },
  "language_info": {
   "codemirror_mode": {
    "name": "ipython",
    "version": 3
   },
   "file_extension": ".py",
   "mimetype": "text/x-python",
   "name": "python",
   "nbconvert_exporter": "python",
   "pygments_lexer": "ipython3",
   "version": "3.8.9"
  }
 },
 "nbformat": 4,
 "nbformat_minor": 5
}
